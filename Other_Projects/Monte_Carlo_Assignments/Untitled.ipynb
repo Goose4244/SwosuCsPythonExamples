{
 "cells": [
  {
   "cell_type": "markdown",
   "id": "9c72577b",
   "metadata": {},
   "source": [
    "Your task is to simulate rolling dice.\n",
    "**Part 1:**\n",
    "* Select an appropriate distribution that should simulate the probability of rolling a six-sided die (with a fairdie, each number should be equally likely)\n",
    "* Set the bounds/limits/criteria for your distributionDefine that cell as an OUTPUT, with an appropriate labelRun one scenario with 25 trials, another with 100 trials, and another with 100,000 trials\n",
    "* In the results window, generate a chart that shows the probability of each number occurring for each ofthese three scenarios\n",
    "* Export that chart (and anything else you'd like) into Excel\n",
    "* Explain to me, with evidence (likely based around the chart or something similar) why your model isaccurately simulating the rolling of a fair die.\n",
    "* Explain any major differences you see between the charts with 25, 100, and 100,000 trials (other than thetotal quantity)\n",
    "* What is the probability of rolling a 6?  (explain with evidence from Excel/Modelrisk)"
   ]
  },
  {
   "cell_type": "code",
   "execution_count": 4,
   "id": "81af41a3",
   "metadata": {},
   "outputs": [
    {
     "name": "stdout",
     "output_type": "stream",
     "text": [
      "Rolling the dices...\n",
      "The values are....\n",
      "4\n",
      "5\n",
      "Roll the dices again?y\n",
      "Rolling the dices...\n",
      "The values are....\n",
      "6\n",
      "6\n",
      "Roll the dices again?n\n"
     ]
    }
   ],
   "source": [
    "# Example from the net:\n",
    "#https://www.pythonforbeginners.com/code-snippets-source-code/game-rolling-the-dice\n",
    "\n",
    "# I made changes to the print and input syntax (a minor tweak from Python 2 to Python 3 I believe.)\n",
    "import random\n",
    "min = 1\n",
    "max = 6\n",
    "\n",
    "roll_again = \"yes\"\n",
    "\n",
    "while roll_again == \"yes\" or roll_again == \"y\":\n",
    "    print (\"Rolling the dices...\")\n",
    "    print (\"The values are....\")\n",
    "    print (random.randint(min, max))\n",
    "    print (random.randint(min, max))\n",
    "\n",
    "    roll_again = input(\"Roll the dices again?\")"
   ]
  },
  {
   "cell_type": "code",
   "execution_count": 17,
   "id": "fe4375aa",
   "metadata": {},
   "outputs": [],
   "source": [
    "# Jeremy Code\n",
    "\n",
    "def roll_single_die():\n",
    "    import random\n",
    "    min = 1\n",
    "    max = 6\n",
    "    die_roll = (random.randint(min, max))\n",
    "    return die_roll"
   ]
  },
  {
   "cell_type": "code",
   "execution_count": 18,
   "id": "473256d0",
   "metadata": {},
   "outputs": [
    {
     "name": "stdout",
     "output_type": "stream",
     "text": [
      "Roll a single die. 5\n"
     ]
    }
   ],
   "source": [
    "# do a single test roll\n",
    "print('Roll a single die.', roll_single_die())"
   ]
  },
  {
   "cell_type": "code",
   "execution_count": 19,
   "id": "3968cba4",
   "metadata": {},
   "outputs": [
    {
     "name": "stdout",
     "output_type": "stream",
     "text": [
      "we had a match for 1.\n",
      "we had a match for 2.\n",
      "we had a match for 3.\n",
      "we had a match for 4.\n",
      "we had a match for 5.\n",
      "we had a match for 6.\n",
      "We were able to see each face of the die at least once.\n"
     ]
    }
   ],
   "source": [
    "# verify that all 6 sides are rolled at least once\n",
    "\n",
    "check_index = 1\n",
    "\n",
    "\n",
    "while True:\n",
    "    working_value = roll_single_die()\n",
    "    if working_value == check_index:\n",
    "        print(f'we had a match for {check_index}.')\n",
    "        check_index = check_index + 1\n",
    "        if 7 == check_index:\n",
    "            break\n",
    "            print('you should not see this printed.')\n",
    "    elif 0 >= working_value:\n",
    "        print(f'you rolled at {working_value}.')\n",
    "        print(\"Negative or zero has been rolled.\")\n",
    "        break\n",
    "    elif 7 <= working_value:\n",
    "        print(f'you rolled at {working_value}.')\n",
    "        print(\"Too large a number has been rolled.\")\n",
    "        break\n",
    "        \n",
    "print(\"We were able to see each face of the die at least once.\")\n",
    "    "
   ]
  },
  {
   "cell_type": "code",
   "execution_count": null,
   "id": "72c37f43",
   "metadata": {},
   "outputs": [],
   "source": []
  }
 ],
 "metadata": {
  "kernelspec": {
   "display_name": "Python 3 (ipykernel)",
   "language": "python",
   "name": "python3"
  },
  "language_info": {
   "codemirror_mode": {
    "name": "ipython",
    "version": 3
   },
   "file_extension": ".py",
   "mimetype": "text/x-python",
   "name": "python",
   "nbconvert_exporter": "python",
   "pygments_lexer": "ipython3",
   "version": "3.9.7"
  }
 },
 "nbformat": 4,
 "nbformat_minor": 5
}
