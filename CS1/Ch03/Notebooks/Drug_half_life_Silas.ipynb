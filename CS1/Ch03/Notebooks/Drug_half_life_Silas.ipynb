{
 "cells": [
  {
   "cell_type": "code",
   "execution_count": 1,
   "id": "ffe5f722",
   "metadata": {},
   "outputs": [
    {
     "name": "stdout",
     "output_type": "stream",
     "text": [
      "hello\n"
     ]
    }
   ],
   "source": [
    "print('hello')"
   ]
  },
  {
   "cell_type": "markdown",
   "id": "f90b99ed",
   "metadata": {},
   "source": [
    "A half-life is the amount of time it takes for a substance or entity to fall to half its original value. Caffeine has a half-life of about 6 hours in humans. Given caffeine amount (in mg) as input, output the caffeine level after 6, 12, and 24 hours. Use a string formatting expression with conversion specifiers to output the caffeine amount as floating-point numbers.\n",
    "\n",
    "Output each floating-point value with two digits after the decimal point, which can be achieved as follows:\n",
    "print(f'{your_value:.2f}')\n",
    "\n",
    "Ex: If the input is:\n",
    "\n",
    "100\n",
    "the output is:\n",
    "\n",
    "After 6 hours: 50.00 mg\n",
    "After 12 hours: 25.00 mg\n",
    "After 24 hours: 6.25 mg\n",
    "Note: A cup of coffee has about 100 mg. A soda has about 40 mg. An \"energy\" drink (a misnomer) has between 100 mg and 200 mg.\n",
    "\n",
    " \n",
    "\n",
    "starter code from inside book:\n",
    "\n",
    "caffeine_mg = float(input())\n",
    "\n",
    "''' Type your code here. '''"
   ]
  },
  {
   "cell_type": "code",
   "execution_count": 8,
   "id": "c78a1634",
   "metadata": {},
   "outputs": [
    {
     "name": "stdout",
     "output_type": "stream",
     "text": [
      "How much caffeine do you want to add?50\n",
      "number of caffeiene50\n"
     ]
    }
   ],
   "source": [
    "caffeine_mg = (input(\"How much caffeine do you want to add?\"))\n",
    "print (f\"number of caffeiene{caffeine_mg}\")\n",
    "print "
   ]
  },
  {
   "cell_type": "code",
   "execution_count": null,
   "id": "c0b93dad",
   "metadata": {},
   "outputs": [],
   "source": []
  }
 ],
 "metadata": {
  "kernelspec": {
   "display_name": "Python 3 (ipykernel)",
   "language": "python",
   "name": "python3"
  },
  "language_info": {
   "codemirror_mode": {
    "name": "ipython",
    "version": 3
   },
   "file_extension": ".py",
   "mimetype": "text/x-python",
   "name": "python",
   "nbconvert_exporter": "python",
   "pygments_lexer": "ipython3",
   "version": "3.9.12"
  }
 },
 "nbformat": 4,
 "nbformat_minor": 5
}
